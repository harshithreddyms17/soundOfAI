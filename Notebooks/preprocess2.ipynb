{
 "cells": [
  {
   "cell_type": "code",
   "execution_count": 1,
   "id": "d3018785",
   "metadata": {},
   "outputs": [],
   "source": [
    "#audiofile preprocessing\n",
    "import scipy.signal as signal\n",
    "import numpy as np\n",
    "import librosa\n",
    "import wave\n",
    "import soundfile as sf\n",
    "#spectrograms\n",
    "import matplotlib.pyplot as plt\n",
    "import numpy as np\n",
    "import librosa\n",
    "import librosa.display\n",
    "import matplotlib\n",
    "from tqdm import tqdm\n",
    "import os"
   ]
  },
  {
   "cell_type": "code",
   "execution_count": 2,
   "id": "8f0f734e",
   "metadata": {},
   "outputs": [],
   "source": [
    "sampling_rate = 44100\n",
    "cutoff_freq = 195\n",
    "duration = 3\n",
    "pitch_shift_value = -0.5\n",
    "time_shift_value = 1.0"
   ]
  },
  {
   "cell_type": "code",
   "execution_count": 3,
   "id": "94c48d17",
   "metadata": {},
   "outputs": [],
   "source": [
    "# Step 1: Denoising using a low pass filter\n",
    "def apply_low_pass_filter(audio, sampling_rate, cutoff_freq):\n",
    "    nyquist_freq = 0.5 * sampling_rate\n",
    "    normalized_cutoff_freq = cutoff_freq / nyquist_freq\n",
    "    b, a = signal.butter(4, normalized_cutoff_freq, btype='low', analog=False)\n",
    "    denoised_audio = signal.lfilter(b, a, audio)\n",
    "    return denoised_audio"
   ]
  },
  {
   "cell_type": "code",
   "execution_count": 4,
   "id": "4a2e097a",
   "metadata": {},
   "outputs": [],
   "source": [
    "# Downsampling audio\n",
    "def downsample_audio(audio,original_sampling_rate,target_sampling_rate):\n",
    "    resampled_audio = librosa.resample(audio, orig_sr=original_sampling_rate, target_sr=target_sampling_rate)\n",
    "    return resampled_audio"
   ]
  },
  {
   "cell_type": "code",
   "execution_count": 5,
   "id": "9ba784dd",
   "metadata": {},
   "outputs": [],
   "source": [
    "# Split audio into fixed-length segments\n",
    "def split_audio(audio, segment_length):\n",
    "    num_segments = len(audio) // segment_length\n",
    "    segments = [audio[i*segment_length:(i+1)*segment_length] for i in range(num_segments)]\n",
    "    return segments"
   ]
  },
  {
   "cell_type": "code",
   "execution_count": 6,
   "id": "571a9afc",
   "metadata": {},
   "outputs": [],
   "source": [
    "# Apply time shifting to audio\n",
    "def apply_time_shift(audio, shift_factor):\n",
    "    shifted_audio = np.roll(audio, shift_factor)\n",
    "    return shifted_audio"
   ]
  },
  {
   "cell_type": "code",
   "execution_count": 8,
   "id": "501e3ebf",
   "metadata": {},
   "outputs": [],
   "source": [
    "# Apply pitch shifting to audio\n",
    "def apply_pitch_shift(audio, sampling_rate, pitch_shift_steps):\n",
    "    pitch_shifted_audio = librosa.effects.pitch_shift(audio, sr=sampling_rate, n_steps=pitch_shift_steps)\n",
    "    return pitch_shifted_audio"
   ]
  },
  {
   "cell_type": "code",
   "execution_count": 9,
   "id": "86a210eb",
   "metadata": {},
   "outputs": [],
   "source": [
    "import os\n",
    "import librosa\n",
    "# Set input and output folder paths\n",
    "input_folder = '/Users/vaishnavikrovvidi/Desktop/pascalheartds/DatasetA/Atraining_artifact'\n",
    "output_folder = '/Users/vaishnavikrovvidi/Desktop/pascalnew/normaudio/normartifact'\n",
    "\n",
    "# Iterate over files in the input folder\n",
    "for filename in os.listdir(input_folder):\n",
    "    if filename.endswith(\".wav\"):\n",
    "        # Load audio file\n",
    "        audio_path = os.path.join(input_folder, filename)\n",
    "        audio, sampling_rate = librosa.load(audio_path, sr=None)\n",
    "\n",
    "        # Denoising, downsampling, splitting, time shifting, and pitch shifting\n",
    "        # Denoising\n",
    "        cutoff_frequency = 195\n",
    "        denoised_audio = apply_low_pass_filter(audio, sampling_rate, cutoff_frequency)\n",
    "\n",
    "        # Downsampling\n",
    "        target_sampling_rate = sampling_rate // 10\n",
    "        downsampled_audio = downsample_audio(denoised_audio, sampling_rate, target_sampling_rate)\n",
    "\n",
    "        # Splitting audio\n",
    "        segment_length = target_sampling_rate * 3\n",
    "        segments = split_audio(downsampled_audio, segment_length)\n",
    "\n",
    "        # Saving augmented audio segments\n",
    "        for i, segment in enumerate(segments):\n",
    "            output_path = os.path.join(output_folder, f'segment_{i}_{filename}')\n",
    "            sf.write(output_path, segment, target_sampling_rate)\n"
   ]
  },
  {
   "cell_type": "code",
   "execution_count": 10,
   "id": "7f16f6ee",
   "metadata": {},
   "outputs": [],
   "source": [
    "import os\n",
    "import librosa\n",
    "# Set input and output folder paths\n",
    "input_folder = '/Users/vaishnavikrovvidi/Desktop/pascalheartds/DatasetA/Atraining_normal'\n",
    "output_folder = '/Users/vaishnavikrovvidi/Desktop/pascalnew/normaudio/normnorm'\n",
    "\n",
    "# Iterate over files in the input folder\n",
    "for filename in os.listdir(input_folder):\n",
    "    if filename.endswith(\".wav\"):\n",
    "        # Load audio file\n",
    "        audio_path = os.path.join(input_folder, filename)\n",
    "        audio, sampling_rate = librosa.load(audio_path, sr=None)\n",
    "\n",
    "        # Denoising, downsampling, splitting, time shifting, and pitch shifting\n",
    "        # Denoising\n",
    "        cutoff_frequency = 195\n",
    "        denoised_audio = apply_low_pass_filter(audio, sampling_rate, cutoff_frequency)\n",
    "\n",
    "        # Downsampling\n",
    "        target_sampling_rate = sampling_rate // 10\n",
    "        downsampled_audio = downsample_audio(denoised_audio, sampling_rate, target_sampling_rate)\n",
    "\n",
    "        # Splitting audio\n",
    "        segment_length = target_sampling_rate * 3\n",
    "        segments = split_audio(downsampled_audio, segment_length)\n",
    "\n",
    "        # Saving augmented audio segments\n",
    "        for i, segment in enumerate(segments):\n",
    "            output_path = os.path.join(output_folder, f'segment_{i}_{filename}')\n",
    "            sf.write(output_path, segment, target_sampling_rate)\n"
   ]
  },
  {
   "cell_type": "code",
   "execution_count": 11,
   "id": "6c0f6266",
   "metadata": {},
   "outputs": [],
   "source": [
    "import os\n",
    "import librosa\n",
    "# Set input and output folder paths\n",
    "input_folder = '/Users/vaishnavikrovvidi/Desktop/pascalheartds/DatasetA/Atraining_murmur'\n",
    "output_folder = '/Users/vaishnavikrovvidi/Desktop/pascalnew/normaudio/normmurmur'\n",
    "\n",
    "# Iterate over files in the input folder\n",
    "for filename in os.listdir(input_folder):\n",
    "    if filename.endswith(\".wav\"):\n",
    "        # Load audio file\n",
    "        audio_path = os.path.join(input_folder, filename)\n",
    "        audio, sampling_rate = librosa.load(audio_path, sr=None)\n",
    "\n",
    "        # Denoising, downsampling, splitting, time shifting, and pitch shifting\n",
    "        # Denoising\n",
    "        cutoff_frequency = 195\n",
    "        denoised_audio = apply_low_pass_filter(audio, sampling_rate, cutoff_frequency)\n",
    "\n",
    "        # Downsampling\n",
    "        target_sampling_rate = sampling_rate // 10\n",
    "        downsampled_audio = downsample_audio(denoised_audio, sampling_rate, target_sampling_rate)\n",
    "\n",
    "        # Splitting audio\n",
    "        segment_length = target_sampling_rate * 3\n",
    "        segments = split_audio(downsampled_audio, segment_length)\n",
    "\n",
    "        # Saving augmented audio segments\n",
    "        for i, segment in enumerate(segments):\n",
    "            output_path = os.path.join(output_folder, f'segment_{i}_{filename}')\n",
    "            sf.write(output_path, segment, target_sampling_rate)"
   ]
  },
  {
   "cell_type": "code",
   "execution_count": 12,
   "id": "e5231693",
   "metadata": {},
   "outputs": [],
   "source": [
    "import os\n",
    "import librosa\n",
    "# Set input and output folder paths\n",
    "input_folder = '/Users/vaishnavikrovvidi/Desktop/pascalheartds/DatasetA/Atraining_extrahls'\n",
    "output_folder = '/Users/vaishnavikrovvidi/Desktop/pascalnew/normaudio/normextrahls'\n",
    "\n",
    "# Iterate over files in the input folder\n",
    "for filename in os.listdir(input_folder):\n",
    "    if filename.endswith(\".wav\"):\n",
    "        # Load audio file\n",
    "        audio_path = os.path.join(input_folder, filename)\n",
    "        audio, sampling_rate = librosa.load(audio_path, sr=None)\n",
    "\n",
    "        # Denoising, downsampling, splitting, time shifting, and pitch shifting\n",
    "        # Denoising\n",
    "        cutoff_frequency = 195\n",
    "        denoised_audio = apply_low_pass_filter(audio, sampling_rate, cutoff_frequency)\n",
    "\n",
    "        # Downsampling\n",
    "        target_sampling_rate = sampling_rate // 10\n",
    "        downsampled_audio = downsample_audio(denoised_audio, sampling_rate, target_sampling_rate)\n",
    "\n",
    "        # Splitting audio\n",
    "        segment_length = target_sampling_rate * 3\n",
    "        segments = split_audio(downsampled_audio, segment_length)\n",
    "\n",
    "        # Saving augmented audio segments\n",
    "        for i, segment in enumerate(segments):\n",
    "            output_path = os.path.join(output_folder, f'segment_{i}_{filename}')\n",
    "            sf.write(output_path, segment, target_sampling_rate)"
   ]
  },
  {
   "cell_type": "code",
   "execution_count": 13,
   "id": "45a999a6",
   "metadata": {},
   "outputs": [],
   "source": [
    "import numpy as np\n",
    "import matplotlib.pyplot as plt\n",
    "import librosa\n",
    "import librosa.display\n",
    "import cv2\n",
    "\n",
    "def time_warp(spec, W=5):\n",
    "    num_bins, num_frames = spec.shape\n",
    "    spec_aug = np.copy(spec)\n",
    "\n",
    "    # Generate random control points for time warping\n",
    "    control_points = [(0, 0), (num_bins-1, num_frames-1)]\n",
    "    for _ in range(W):\n",
    "        random_point = np.random.randint(1, num_bins-1)\n",
    "        control_points.append((random_point, np.random.randint(0, num_frames-1)))\n",
    "\n",
    "    # Apply time warping\n",
    "    for i in range(len(control_points)-1):\n",
    "        c1, c2 = control_points[i], control_points[i+1]\n",
    "        spec_aug[c1[0]:c2[0]+1, :] = np.roll(spec[c1[0]:c2[0]+1, :], c2[1] - c1[1], axis=1)\n",
    "\n",
    "    return spec_aug\n",
    "\n",
    "def frequency_mask(spec, F=30, num_masks=2):\n",
    "    spec_aug = np.copy(spec)\n",
    "\n",
    "    # Apply frequency masking\n",
    "    num_bins, num_frames = spec.shape\n",
    "    for _ in range(num_masks):\n",
    "        f = np.random.randint(0, F)\n",
    "        f0 = np.random.randint(0, num_bins - f)\n",
    "        spec_aug[f0:f0+f, :] = 0\n",
    "\n",
    "    return spec_aug"
   ]
  },
  {
   "cell_type": "code",
   "execution_count": 14,
   "id": "ab150783",
   "metadata": {},
   "outputs": [],
   "source": [
    "#SpecAugment-A\n",
    "\n",
    "def SpecAugment(root_directory, output_folder):\n",
    "    # Iterate through subdirectories and files in the root directory\n",
    "    for folder_name, subfolders, filenames in os.walk(root_directory):\n",
    "        # Iterate through audio files in the current folder\n",
    "\n",
    "        for filename in tqdm(filenames):\n",
    "            if filename.lower().endswith(('.wav')):\n",
    "#                 Construct the full path to the audio file\n",
    "                audio_path = os.path.join(folder_name, filename)\n",
    "                # Load audio file\n",
    "                audio, sr = librosa.load(audio_path, sr=None)\n",
    "                \n",
    "                # Compute spectrogram\n",
    "                spectrogram = librosa.feature.melspectrogram(y=audio, sr=sr, n_fft=2048, hop_length=512, n_mels=128)\n",
    "                spectrogram_db = librosa.power_to_db(spectrogram, ref=np.max)\n",
    "                spectrogram_db= cv2.resize(spectrogram_db,(128,128))\n",
    "                \n",
    "                # Normalize the spectrogram to values between 0 and 1\n",
    "                spectrogram_normalized = (spectrogram_db - np.min(spectrogram_db)) / (np.max(spectrogram_db) - np.min(spectrogram_db))\n",
    "\n",
    "                # Scale the spectrogram to values between 1 and 255\n",
    "                spectrogram_scaled = spectrogram_normalized * 255\n",
    "                \n",
    "                # Apply time warping\n",
    "                time_warped_spectrogram = time_warp(spectrogram_scaled)\n",
    "\n",
    "                # Generate frequency-masked spectrograms\n",
    "                frequency_masked_spectrogram_1 = frequency_mask(spectrogram_scaled)\n",
    "                frequency_masked_spectrogram_2 = frequency_mask(spectrogram_scaled)\n",
    "                \n",
    "                fig, ax = plt.subplots(figsize=(1.28,1.28))\n",
    "                \n",
    "                img1=librosa.display.specshow(time_warped_spectrogram, sr=sr)\n",
    "                plt.savefig(os.path.join(output_folder,'time_{}.png'.format(filename[:-4])),transparent=True)\n",
    "                \n",
    "                img2=librosa.display.specshow(frequency_masked_spectrogram_1, sr=sr)\n",
    "                plt.savefig(os.path.join(output_folder,'freq1_{}.png'.format(filename[:-4])),transparent=True)\n",
    "                \n",
    "                img3=librosa.display.specshow(frequency_masked_spectrogram_2, sr=sr)\n",
    "                plt.savefig(os.path.join(output_folder,'freq2_{}.png'.format(filename[:-4])),transparent=True)\n",
    "                \n",
    "                plt.close()"
   ]
  },
  {
   "cell_type": "code",
   "execution_count": 15,
   "id": "504c7881",
   "metadata": {},
   "outputs": [
    {
     "name": "stderr",
     "output_type": "stream",
     "text": [
      "100%|██████████| 68/68 [00:09<00:00,  7.48it/s]\n"
     ]
    }
   ],
   "source": [
    "infile='/Users/vaishnavikrovvidi/Desktop/pascalnew/normaudio/normnorm'\n",
    "outfile='/Users/vaishnavikrovvidi/Desktop/pascalnew/spect_and_aug/normal'\n",
    "SpecAugment(infile,outfile)"
   ]
  },
  {
   "cell_type": "code",
   "execution_count": 16,
   "id": "06b04e8f",
   "metadata": {},
   "outputs": [
    {
     "name": "stderr",
     "output_type": "stream",
     "text": [
      "100%|██████████| 66/66 [00:08<00:00,  7.86it/s]\n"
     ]
    }
   ],
   "source": [
    "infile='/Users/vaishnavikrovvidi/Desktop/pascalnew/normaudio/normmurmur'\n",
    "outfile='/Users/vaishnavikrovvidi/Desktop/pascalnew/spect_and_aug/murmur'\n",
    "SpecAugment(infile,outfile)"
   ]
  },
  {
   "cell_type": "code",
   "execution_count": 19,
   "id": "0392b8e4",
   "metadata": {},
   "outputs": [
    {
     "name": "stderr",
     "output_type": "stream",
     "text": [
      "100%|██████████| 120/120 [00:16<00:00,  7.49it/s]\n"
     ]
    }
   ],
   "source": [
    "infile='/Users/vaishnavikrovvidi/Desktop/pascalnew/normaudio/normartifact'\n",
    "outfile='/Users/vaishnavikrovvidi/Desktop/pascalnew/spect_and_aug/artifact'\n",
    "SpecAugment(infile,outfile)"
   ]
  },
  {
   "cell_type": "code",
   "execution_count": 20,
   "id": "0473e58c",
   "metadata": {},
   "outputs": [
    {
     "name": "stderr",
     "output_type": "stream",
     "text": [
      "100%|██████████| 37/37 [00:05<00:00,  7.28it/s]\n"
     ]
    }
   ],
   "source": [
    "infile='/Users/vaishnavikrovvidi/Desktop/pascalnew/normaudio/normextrahls'\n",
    "outfile='/Users/vaishnavikrovvidi/Desktop/pascalnew/spect_and_aug/extrahls'\n",
    "SpecAugment(infile,outfile)"
   ]
  },
  {
   "cell_type": "code",
   "execution_count": 21,
   "id": "0e46e760",
   "metadata": {},
   "outputs": [
    {
     "name": "stderr",
     "output_type": "stream",
     "text": [
      "100%|██████████| 37/37 [00:05<00:00,  7.30it/s]\n"
     ]
    }
   ],
   "source": [
    "infile='/Users/vaishnavikrovvidi/Desktop/pascalnew/normaudio/normextrahls'\n",
    "outfile='/Users/vaishnavikrovvidi/Desktop/pascalnew/everything'\n",
    "SpecAugment(infile,outfile)"
   ]
  },
  {
   "cell_type": "code",
   "execution_count": 23,
   "id": "405c6fdf",
   "metadata": {},
   "outputs": [
    {
     "name": "stderr",
     "output_type": "stream",
     "text": [
      "100%|██████████| 120/120 [00:16<00:00,  7.46it/s]\n"
     ]
    }
   ],
   "source": [
    "infile='/Users/vaishnavikrovvidi/Desktop/pascalnew/normaudio/normartifact'\n",
    "outfile='/Users/vaishnavikrovvidi/Desktop/pascalnew/everything'\n",
    "SpecAugment(infile,outfile)"
   ]
  },
  {
   "cell_type": "code",
   "execution_count": 24,
   "id": "10f584da",
   "metadata": {},
   "outputs": [
    {
     "name": "stderr",
     "output_type": "stream",
     "text": [
      "100%|██████████| 66/66 [00:08<00:00,  7.57it/s]\n"
     ]
    }
   ],
   "source": [
    "infile='/Users/vaishnavikrovvidi/Desktop/pascalnew/normaudio/normmurmur'\n",
    "outfile='/Users/vaishnavikrovvidi/Desktop/pascalnew/everything'\n",
    "SpecAugment(infile,outfile)"
   ]
  },
  {
   "cell_type": "code",
   "execution_count": 25,
   "id": "792f7a5c",
   "metadata": {},
   "outputs": [
    {
     "name": "stderr",
     "output_type": "stream",
     "text": [
      "100%|██████████| 68/68 [00:09<00:00,  7.38it/s]\n"
     ]
    }
   ],
   "source": [
    "infile='/Users/vaishnavikrovvidi/Desktop/pascalnew/normaudio/normnorm'\n",
    "outfile='/Users/vaishnavikrovvidi/Desktop/pascalnew/everything'\n",
    "SpecAugment(infile,outfile)"
   ]
  },
  {
   "cell_type": "code",
   "execution_count": 41,
   "id": "7adb864e",
   "metadata": {},
   "outputs": [],
   "source": [
    "import random\n",
    "\n",
    "def save_augmented_spect(data, sr, filename):\n",
    "    # Extract original spectrogram\n",
    "    spectrogram = librosa.feature.melspectrogram(y=data, sr=sr)\n",
    "\n",
    "    # Convert to decibels\n",
    "    spectrogram_db = librosa.power_to_db(spectrogram, ref=np.max)\n",
    "    \n",
    "    # Normalize the spectrogram to values between 0 and 1\n",
    "    spectrogram_normalized = (spectrogram_db - np.min(spectrogram_db)) / (np.max(spectrogram_db) - np.min(spectrogram_db))\n",
    "\n",
    "    # Scale the spectrogram to values between 1 and 255\n",
    "    spectrogram_scaled = spectrogram_normalized * 255\n",
    "\n",
    "    # Plot original spectrogram\n",
    "    plt.figure(figsize=(1.28, 1.28))\n",
    "    librosa.display.specshow(spectrogram_scaled, sr=sr)\n",
    "    plt.savefig((\"/Users/vaishnavikrovvidi/Desktop/pascalnew/everything/{}_original.png\").format(filename), transparent=True)\n",
    "    plt.close()\n",
    "\n",
    "    # Time-wrapped spectrogram\n",
    "    time_wrapped_spectrogram = time_warp(spectrogram_scaled)\n",
    "    plt.figure(figsize=(1.28, 1.28))\n",
    "    librosa.display.specshow(time_wrapped_spectrogram, sr=sr)\n",
    "    plt.savefig((\"/Users/vaishnavikrovvidi/Desktop/pascalnew/everything/{}_time_wrapped.png\").format(filename), transparent=True)\n",
    "    plt.close()\n",
    "\n",
    "    # Frequency-masked spectrograms\n",
    "    for i in range(2):\n",
    "        frequency_masked_spectrogram = spectrogram.copy()\n",
    "        start_freq = random.randint(0, spectrogram.shape[0] // 2)\n",
    "        end_freq = random.randint(start_freq, spectrogram.shape[0] - 1)\n",
    "        frequency_masked_spectrogram[start_freq:end_freq + 1, :] = 0\n",
    "        frequency_masked_spectrogram_db = librosa.power_to_db(frequency_masked_spectrogram, ref=np.max)\n",
    "        plt.figure(figsize=(1.28, 1.28))\n",
    "        librosa.display.specshow(frequency_masked_spectrogram_db, sr=sr)\n",
    "        plt.savefig((\"/Users/vaishnavikrovvidi/Desktop/pascalnew/everything/{}freq_masked{}.png\").format(filename, i+1), transparent=True)\n",
    "        plt.close()"
   ]
  },
  {
   "cell_type": "code",
   "execution_count": 42,
   "id": "66e28ff1",
   "metadata": {},
   "outputs": [
    {
     "name": "stderr",
     "output_type": "stream",
     "text": [
      "100%|██████████| 37/37 [00:04<00:00,  8.91it/s]\n"
     ]
    }
   ],
   "source": [
    "folder_path = \"/Users/vaishnavikrovvidi/Desktop/pascalnew/normaudio/normextrahls\"\n",
    "\n",
    "# Get the file names from the folder\n",
    "file_names = os.listdir(folder_path)\n",
    "\n",
    "for file_name in tqdm(file_names):\n",
    "    if file_name.lower().endswith(('.wav')):\n",
    "        audio_path = os.path.join(os.path.abspath(folder_path),file_name)\n",
    "        audio, sampling_rate = librosa.load(audio_path, sr=None)\n",
    "        save_augmented_spect(audio, sampling_rate, str(file_name)[:-4])"
   ]
  },
  {
   "cell_type": "code",
   "execution_count": 43,
   "id": "e850ed34",
   "metadata": {},
   "outputs": [
    {
     "name": "stderr",
     "output_type": "stream",
     "text": [
      "100%|██████████| 68/68 [00:07<00:00,  9.28it/s]\n"
     ]
    }
   ],
   "source": [
    "folder_path = \"/Users/vaishnavikrovvidi/Desktop/pascalnew/normaudio/normnorm\"\n",
    "\n",
    "# Get the file names from the folder\n",
    "file_names = os.listdir(folder_path)\n",
    "\n",
    "for file_name in tqdm(file_names):\n",
    "    if file_name.lower().endswith(('.wav')):\n",
    "        audio_path = os.path.join(os.path.abspath(folder_path),file_name)\n",
    "        audio, sampling_rate = librosa.load(audio_path, sr=None)\n",
    "        save_augmented_spect(audio, sampling_rate, str(file_name)[:-4])"
   ]
  },
  {
   "cell_type": "code",
   "execution_count": 44,
   "id": "db3ff0e5",
   "metadata": {},
   "outputs": [
    {
     "name": "stderr",
     "output_type": "stream",
     "text": [
      "100%|██████████| 120/120 [00:12<00:00,  9.36it/s]\n"
     ]
    }
   ],
   "source": [
    "folder_path = \"/Users/vaishnavikrovvidi/Desktop/pascalnew/normaudio/normartifact\"\n",
    "\n",
    "# Get the file names from the folder\n",
    "file_names = os.listdir(folder_path)\n",
    "\n",
    "for file_name in tqdm(file_names):\n",
    "    if file_name.lower().endswith(('.wav')):\n",
    "        audio_path = os.path.join(os.path.abspath(folder_path),file_name)\n",
    "        audio, sampling_rate = librosa.load(audio_path, sr=None)\n",
    "        save_augmented_spect(audio, sampling_rate, str(file_name)[:-4])"
   ]
  },
  {
   "cell_type": "code",
   "execution_count": 45,
   "id": "53ed4e13",
   "metadata": {},
   "outputs": [
    {
     "name": "stderr",
     "output_type": "stream",
     "text": [
      "100%|██████████| 66/66 [00:07<00:00,  8.95it/s]\n"
     ]
    }
   ],
   "source": [
    "folder_path = \"/Users/vaishnavikrovvidi/Desktop/pascalnew/normaudio/normmurmur\"\n",
    "\n",
    "# Get the file names from the folder\n",
    "file_names = os.listdir(folder_path)\n",
    "\n",
    "for file_name in tqdm(file_names):\n",
    "    if file_name.lower().endswith(('.wav')):\n",
    "        audio_path = os.path.join(os.path.abspath(folder_path),file_name)\n",
    "        audio, sampling_rate = librosa.load(audio_path, sr=None)\n",
    "        save_augmented_spect(audio, sampling_rate, str(file_name)[:-4])"
   ]
  },
  {
   "cell_type": "code",
   "execution_count": null,
   "id": "b87da930",
   "metadata": {},
   "outputs": [],
   "source": []
  }
 ],
 "metadata": {
  "kernelspec": {
   "display_name": "Python 3.10 (tensorflow)",
   "language": "python",
   "name": "tensorflow"
  },
  "language_info": {
   "codemirror_mode": {
    "name": "ipython",
    "version": 3
   },
   "file_extension": ".py",
   "mimetype": "text/x-python",
   "name": "python",
   "nbconvert_exporter": "python",
   "pygments_lexer": "ipython3",
   "version": "3.10.10"
  }
 },
 "nbformat": 4,
 "nbformat_minor": 5
}
