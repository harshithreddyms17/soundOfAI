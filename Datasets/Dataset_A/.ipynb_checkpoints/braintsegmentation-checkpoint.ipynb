{
 "cells": [
  {
   "cell_type": "code",
   "execution_count": 1,
   "id": "07fc88e4",
   "metadata": {
    "execution": {
     "iopub.execute_input": "2023-06-29T12:06:46.012852Z",
     "iopub.status.busy": "2023-06-29T12:06:46.012469Z",
     "iopub.status.idle": "2023-06-29T12:06:57.030666Z",
     "shell.execute_reply": "2023-06-29T12:06:57.029517Z",
     "shell.execute_reply.started": "2023-06-29T12:06:46.012815Z"
    }
   },
   "outputs": [
    {
     "name": "stdout",
     "output_type": "stream",
     "text": [
      "Looking in indexes: https://pypi.org/simple, https://pypi.ngc.nvidia.com\n",
      "Collecting hdf5storage\n",
      "  Downloading hdf5storage-0.1.19-py2.py3-none-any.whl (53 kB)\n",
      "\u001b[2K     \u001b[90m━━━━━━━━━━━━━━━━━━━━━━━━━━━━━━━━━━━━━━━━\u001b[0m \u001b[32m53.6/53.6 kB\u001b[0m \u001b[31m4.5 MB/s\u001b[0m eta \u001b[36m0:00:00\u001b[0m\n",
      "\u001b[?25hRequirement already satisfied: h5py>=2.1 in /opt/anaconda3/envs/tensorflow/lib/python3.10/site-packages (from hdf5storage) (3.8.0)\n",
      "Requirement already satisfied: numpy in /opt/anaconda3/envs/tensorflow/lib/python3.10/site-packages (from hdf5storage) (1.23.5)\n",
      "Installing collected packages: hdf5storage\n",
      "Successfully installed hdf5storage-0.1.19\n"
     ]
    }
   ],
   "source": [
    "!pip install hdf5storage"
   ]
  },
  {
   "cell_type": "code",
   "execution_count": 2,
   "id": "f8de3eea",
   "metadata": {
    "execution": {
     "iopub.execute_input": "2023-06-29T12:06:57.034843Z",
     "iopub.status.busy": "2023-06-29T12:06:57.034505Z",
     "iopub.status.idle": "2023-06-29T12:07:08.311683Z",
     "shell.execute_reply": "2023-06-29T12:07:08.310631Z",
     "shell.execute_reply.started": "2023-06-29T12:06:57.034806Z"
    }
   },
   "outputs": [
    {
     "name": "stdout",
     "output_type": "stream",
     "text": [
      "Looking in indexes: https://pypi.org/simple, https://pypi.ngc.nvidia.com\n",
      "Requirement already satisfied: opencv-python in /opt/anaconda3/envs/tensorflow/lib/python3.10/site-packages (4.7.0.72)\n",
      "Requirement already satisfied: numpy>=1.17.0 in /opt/anaconda3/envs/tensorflow/lib/python3.10/site-packages (from opencv-python) (1.23.5)\n",
      "Note: you may need to restart the kernel to use updated packages.\n"
     ]
    }
   ],
   "source": [
    "pip install opencv-python\n"
   ]
  },
  {
   "cell_type": "code",
   "execution_count": null,
   "id": "fcdb229f",
   "metadata": {
    "execution": {
     "iopub.execute_input": "2023-06-29T12:07:08.313684Z",
     "iopub.status.busy": "2023-06-29T12:07:08.313362Z",
     "iopub.status.idle": "2023-06-29T12:07:31.529377Z",
     "shell.execute_reply": "2023-06-29T12:07:31.528423Z",
     "shell.execute_reply.started": "2023-06-29T12:07:08.313657Z"
    }
   },
   "outputs": [],
   "source": [
    "import os\n",
    "import cv2\n",
    "import numpy as np\n",
    "\n",
    "ll = [49, 50, 51, 52, 53, 54, 58, 66, 67, 68, 69, 70, 71, 72, 73, 74, 75, 76, 77, 78, 79, 80, 81, 82, 83, 84, 85, 86, 87, 88, 89, 90, 91, 92, 93, 94, 97]\n",
    "images_og = \"/Users/vaishnavikrovvidi/Desktop/Images-OG_fixed/Images-OG_fixed/\"\n",
    "\n",
    "images = []\n",
    "seg = []\n",
    "\n",
    "for a in ll:\n",
    "    images_dir = os.path.join(images_og, str(a))\n",
    "\n",
    "    if not os.path.exists(images_dir):\n",
    "        continue\n",
    "\n",
    "    # Iterate over the images in the directory\n",
    "    for filename in os.listdir(images_dir):\n",
    "        # Load the image\n",
    "        image_path = os.path.join(images_dir, filename)\n",
    "        image = cv2.imread(image_path)\n",
    "        if image is None:\n",
    "            continue\n",
    "\n",
    "        image = cv2.cvtColor(image, cv2.COLOR_BGR2RGB)\n",
    "\n",
    "        # Preprocess the image (e.g., resize, normalize)\n",
    "        image = cv2.resize(image, dsize=(256, 256))\n",
    "        image = image / 255.0\n",
    "\n",
    "        # Perform any necessary image preprocessing steps here\n",
    "\n",
    "        # Normalize the image\n",
    "        if \"bottom\" in filename:\n",
    "            continue\n",
    "\n",
    "        if \"HGE\" in filename:\n",
    "            image[image > 0.5] = 1\n",
    "            image[image <= 0.5] = 0\n",
    "            seg.append(image)\n",
    "        else:\n",
    "            images.append(image)\n",
    "\n",
    "        # print(np.unique(image))\n",
    "\n",
    "# Convert the list of images to a NumPy array\n",
    "seg = np.array(seg)\n",
    "images = np.array(images)\n",
    "\n",
    "#Print the shape of the normalized images array\n",
    "print(\"Shape of normalized images array:\", images.shape, seg.shape)\n"
   ]
  },
  {
   "cell_type": "code",
   "execution_count": 6,
   "id": "c3606efa",
   "metadata": {
    "execution": {
     "iopub.execute_input": "2023-06-29T12:07:31.531671Z",
     "iopub.status.busy": "2023-06-29T12:07:31.530731Z",
     "iopub.status.idle": "2023-06-29T12:07:31.792790Z",
     "shell.execute_reply": "2023-06-29T12:07:31.791808Z",
     "shell.execute_reply.started": "2023-06-29T12:07:31.531637Z"
    }
   },
   "outputs": [
    {
     "ename": "IndexError",
     "evalue": "index 3 is out of bounds for axis 0 with size 0",
     "output_type": "error",
     "traceback": [
      "\u001b[0;31m---------------------------------------------------------------------------\u001b[0m",
      "\u001b[0;31mIndexError\u001b[0m                                Traceback (most recent call last)",
      "Cell \u001b[0;32mIn[6], line 2\u001b[0m\n\u001b[1;32m      1\u001b[0m \u001b[38;5;28;01mimport\u001b[39;00m \u001b[38;5;21;01mmatplotlib\u001b[39;00m\u001b[38;5;21;01m.\u001b[39;00m\u001b[38;5;21;01mpyplot\u001b[39;00m \u001b[38;5;28;01mas\u001b[39;00m \u001b[38;5;21;01mplt\u001b[39;00m\n\u001b[0;32m----> 2\u001b[0m plt\u001b[38;5;241m.\u001b[39mimshow(\u001b[43mimages\u001b[49m\u001b[43m[\u001b[49m\u001b[38;5;241;43m3\u001b[39;49m\u001b[43m]\u001b[49m)\n\u001b[1;32m      3\u001b[0m plt\u001b[38;5;241m.\u001b[39maxis(\u001b[38;5;124m'\u001b[39m\u001b[38;5;124moff\u001b[39m\u001b[38;5;124m'\u001b[39m)  \u001b[38;5;66;03m# Turn off the axis\u001b[39;00m\n\u001b[1;32m      4\u001b[0m plt\u001b[38;5;241m.\u001b[39mshow()\n",
      "\u001b[0;31mIndexError\u001b[0m: index 3 is out of bounds for axis 0 with size 0"
     ]
    }
   ],
   "source": [
    "import matplotlib.pyplot as plt\n",
    "plt.imshow(images[3])\n",
    "plt.axis('off')  # Turn off the axis\n",
    "plt.show()\n",
    "\n",
    "plt.imshow(seg[3])\n",
    "plt.axis('off')  # Turn off the axis\n",
    "plt.show()"
   ]
  },
  {
   "cell_type": "markdown",
   "id": "3d7de203",
   "metadata": {},
   "source": []
  },
  {
   "cell_type": "code",
   "execution_count": 8,
   "id": "eeefe23f",
   "metadata": {
    "execution": {
     "iopub.execute_input": "2023-06-29T12:07:31.797248Z",
     "iopub.status.busy": "2023-06-29T12:07:31.796436Z",
     "iopub.status.idle": "2023-06-29T12:07:42.901310Z",
     "shell.execute_reply": "2023-06-29T12:07:42.900062Z",
     "shell.execute_reply.started": "2023-06-29T12:07:31.797216Z"
    }
   },
   "outputs": [
    {
     "name": "stdout",
     "output_type": "stream",
     "text": [
      "Requirement already satisfied: tensorflow in /opt/conda/lib/python3.10/site-packages (2.12.0)\n",
      "Requirement already satisfied: absl-py>=1.0.0 in /opt/conda/lib/python3.10/site-packages (from tensorflow) (1.4.0)\n",
      "Requirement already satisfied: astunparse>=1.6.0 in /opt/conda/lib/python3.10/site-packages (from tensorflow) (1.6.3)\n",
      "Requirement already satisfied: flatbuffers>=2.0 in /opt/conda/lib/python3.10/site-packages (from tensorflow) (23.3.3)\n",
      "Requirement already satisfied: gast<=0.4.0,>=0.2.1 in /opt/conda/lib/python3.10/site-packages (from tensorflow) (0.4.0)\n",
      "Requirement already satisfied: google-pasta>=0.1.1 in /opt/conda/lib/python3.10/site-packages (from tensorflow) (0.2.0)\n",
      "Requirement already satisfied: grpcio<2.0,>=1.24.3 in /opt/conda/lib/python3.10/site-packages (from tensorflow) (1.51.1)\n",
      "Requirement already satisfied: h5py>=2.9.0 in /opt/conda/lib/python3.10/site-packages (from tensorflow) (3.8.0)\n",
      "Requirement already satisfied: jax>=0.3.15 in /opt/conda/lib/python3.10/site-packages (from tensorflow) (0.4.8)\n",
      "Requirement already satisfied: keras<2.13,>=2.12.0 in /opt/conda/lib/python3.10/site-packages (from tensorflow) (2.12.0)\n",
      "Requirement already satisfied: libclang>=13.0.0 in /opt/conda/lib/python3.10/site-packages (from tensorflow) (16.0.0)\n",
      "Requirement already satisfied: numpy<1.24,>=1.22 in /opt/conda/lib/python3.10/site-packages (from tensorflow) (1.23.5)\n",
      "Requirement already satisfied: opt-einsum>=2.3.2 in /opt/conda/lib/python3.10/site-packages (from tensorflow) (3.3.0)\n",
      "Requirement already satisfied: packaging in /opt/conda/lib/python3.10/site-packages (from tensorflow) (21.3)\n",
      "Requirement already satisfied: protobuf!=4.21.0,!=4.21.1,!=4.21.2,!=4.21.3,!=4.21.4,!=4.21.5,<5.0.0dev,>=3.20.3 in /opt/conda/lib/python3.10/site-packages (from tensorflow) (3.20.3)\n",
      "Requirement already satisfied: setuptools in /opt/conda/lib/python3.10/site-packages (from tensorflow) (59.8.0)\n",
      "Requirement already satisfied: six>=1.12.0 in /opt/conda/lib/python3.10/site-packages (from tensorflow) (1.16.0)\n",
      "Requirement already satisfied: tensorboard<2.13,>=2.12 in /opt/conda/lib/python3.10/site-packages (from tensorflow) (2.12.3)\n",
      "Requirement already satisfied: tensorflow-estimator<2.13,>=2.12.0 in /opt/conda/lib/python3.10/site-packages (from tensorflow) (2.12.0)\n",
      "Requirement already satisfied: termcolor>=1.1.0 in /opt/conda/lib/python3.10/site-packages (from tensorflow) (2.3.0)\n",
      "Requirement already satisfied: typing-extensions>=3.6.6 in /opt/conda/lib/python3.10/site-packages (from tensorflow) (4.5.0)\n",
      "Requirement already satisfied: wrapt<1.15,>=1.11.0 in /opt/conda/lib/python3.10/site-packages (from tensorflow) (1.14.1)\n",
      "Requirement already satisfied: tensorflow-io-gcs-filesystem>=0.23.1 in /opt/conda/lib/python3.10/site-packages (from tensorflow) (0.31.0)\n",
      "Requirement already satisfied: wheel<1.0,>=0.23.0 in /opt/conda/lib/python3.10/site-packages (from astunparse>=1.6.0->tensorflow) (0.40.0)\n",
      "Requirement already satisfied: ml-dtypes>=0.0.3 in /opt/conda/lib/python3.10/site-packages (from jax>=0.3.15->tensorflow) (0.1.0)\n",
      "Requirement already satisfied: scipy>=1.7 in /opt/conda/lib/python3.10/site-packages (from jax>=0.3.15->tensorflow) (1.10.1)\n",
      "Requirement already satisfied: google-auth<3,>=1.6.3 in /opt/conda/lib/python3.10/site-packages (from tensorboard<2.13,>=2.12->tensorflow) (2.17.3)\n",
      "Requirement already satisfied: google-auth-oauthlib<1.1,>=0.5 in /opt/conda/lib/python3.10/site-packages (from tensorboard<2.13,>=2.12->tensorflow) (1.0.0)\n",
      "Requirement already satisfied: markdown>=2.6.8 in /opt/conda/lib/python3.10/site-packages (from tensorboard<2.13,>=2.12->tensorflow) (3.4.3)\n",
      "Requirement already satisfied: requests<3,>=2.21.0 in /opt/conda/lib/python3.10/site-packages (from tensorboard<2.13,>=2.12->tensorflow) (2.28.2)\n",
      "Requirement already satisfied: tensorboard-data-server<0.8.0,>=0.7.0 in /opt/conda/lib/python3.10/site-packages (from tensorboard<2.13,>=2.12->tensorflow) (0.7.0)\n",
      "Requirement already satisfied: werkzeug>=1.0.1 in /opt/conda/lib/python3.10/site-packages (from tensorboard<2.13,>=2.12->tensorflow) (2.3.6)\n",
      "Requirement already satisfied: pyparsing!=3.0.5,>=2.0.2 in /opt/conda/lib/python3.10/site-packages (from packaging->tensorflow) (3.0.9)\n",
      "Requirement already satisfied: cachetools<6.0,>=2.0.0 in /opt/conda/lib/python3.10/site-packages (from google-auth<3,>=1.6.3->tensorboard<2.13,>=2.12->tensorflow) (4.2.4)\n",
      "Requirement already satisfied: pyasn1-modules>=0.2.1 in /opt/conda/lib/python3.10/site-packages (from google-auth<3,>=1.6.3->tensorboard<2.13,>=2.12->tensorflow) (0.2.7)\n",
      "Requirement already satisfied: rsa<5,>=3.1.4 in /opt/conda/lib/python3.10/site-packages (from google-auth<3,>=1.6.3->tensorboard<2.13,>=2.12->tensorflow) (4.9)\n",
      "Requirement already satisfied: requests-oauthlib>=0.7.0 in /opt/conda/lib/python3.10/site-packages (from google-auth-oauthlib<1.1,>=0.5->tensorboard<2.13,>=2.12->tensorflow) (1.3.1)\n",
      "Requirement already satisfied: charset-normalizer<4,>=2 in /opt/conda/lib/python3.10/site-packages (from requests<3,>=2.21.0->tensorboard<2.13,>=2.12->tensorflow) (2.1.1)\n",
      "Requirement already satisfied: idna<4,>=2.5 in /opt/conda/lib/python3.10/site-packages (from requests<3,>=2.21.0->tensorboard<2.13,>=2.12->tensorflow) (3.4)\n",
      "Requirement already satisfied: urllib3<1.27,>=1.21.1 in /opt/conda/lib/python3.10/site-packages (from requests<3,>=2.21.0->tensorboard<2.13,>=2.12->tensorflow) (1.26.15)\n",
      "Requirement already satisfied: certifi>=2017.4.17 in /opt/conda/lib/python3.10/site-packages (from requests<3,>=2.21.0->tensorboard<2.13,>=2.12->tensorflow) (2023.5.7)\n",
      "Requirement already satisfied: MarkupSafe>=2.1.1 in /opt/conda/lib/python3.10/site-packages (from werkzeug>=1.0.1->tensorboard<2.13,>=2.12->tensorflow) (2.1.2)\n",
      "Requirement already satisfied: pyasn1<0.5.0,>=0.4.6 in /opt/conda/lib/python3.10/site-packages (from pyasn1-modules>=0.2.1->google-auth<3,>=1.6.3->tensorboard<2.13,>=2.12->tensorflow) (0.4.8)\n",
      "Requirement already satisfied: oauthlib>=3.0.0 in /opt/conda/lib/python3.10/site-packages (from requests-oauthlib>=0.7.0->google-auth-oauthlib<1.1,>=0.5->tensorboard<2.13,>=2.12->tensorflow) (3.2.2)\n",
      "\u001b[33mWARNING: Running pip as the 'root' user can result in broken permissions and conflicting behaviour with the system package manager. It is recommended to use a virtual environment instead: https://pip.pypa.io/warnings/venv\u001b[0m\u001b[33m\n",
      "\u001b[0mNote: you may need to restart the kernel to use updated packages.\n"
     ]
    }
   ],
   "source": [
    "pip install tensorflow"
   ]
  },
  {
   "cell_type": "code",
   "execution_count": 9,
   "id": "cf068e0c",
   "metadata": {
    "execution": {
     "iopub.execute_input": "2023-06-29T12:07:42.903720Z",
     "iopub.status.busy": "2023-06-29T12:07:42.903322Z",
     "iopub.status.idle": "2023-06-29T12:07:53.719437Z",
     "shell.execute_reply": "2023-06-29T12:07:53.718160Z",
     "shell.execute_reply.started": "2023-06-29T12:07:42.903679Z"
    }
   },
   "outputs": [
    {
     "name": "stdout",
     "output_type": "stream",
     "text": [
      "Requirement already satisfied: hdf5storage in /opt/conda/lib/python3.10/site-packages (0.1.19)\n",
      "Requirement already satisfied: h5py>=2.1 in /opt/conda/lib/python3.10/site-packages (from hdf5storage) (3.8.0)\n",
      "Requirement already satisfied: numpy in /opt/conda/lib/python3.10/site-packages (from hdf5storage) (1.23.5)\n",
      "\u001b[33mWARNING: Running pip as the 'root' user can result in broken permissions and conflicting behaviour with the system package manager. It is recommended to use a virtual environment instead: https://pip.pypa.io/warnings/venv\u001b[0m\u001b[33m\n",
      "\u001b[0mNote: you may need to restart the kernel to use updated packages.\n"
     ]
    }
   ],
   "source": [
    "pip install hdf5storage"
   ]
  },
  {
   "cell_type": "code",
   "execution_count": 10,
   "id": "af0f1ced",
   "metadata": {
    "execution": {
     "iopub.execute_input": "2023-06-29T12:07:53.721904Z",
     "iopub.status.busy": "2023-06-29T12:07:53.721459Z",
     "iopub.status.idle": "2023-06-29T12:08:05.081337Z",
     "shell.execute_reply": "2023-06-29T12:08:05.080063Z",
     "shell.execute_reply.started": "2023-06-29T12:07:53.721790Z"
    }
   },
   "outputs": [
    {
     "name": "stdout",
     "output_type": "stream",
     "text": [
      "Requirement already satisfied: scikit-image in /opt/conda/lib/python3.10/site-packages (0.20.0)\n",
      "Requirement already satisfied: numpy>=1.21.1 in /opt/conda/lib/python3.10/site-packages (from scikit-image) (1.23.5)\n",
      "Requirement already satisfied: scipy>=1.8 in /opt/conda/lib/python3.10/site-packages (from scikit-image) (1.10.1)\n",
      "Requirement already satisfied: networkx>=2.8 in /opt/conda/lib/python3.10/site-packages (from scikit-image) (3.1)\n",
      "Requirement already satisfied: pillow>=9.0.1 in /opt/conda/lib/python3.10/site-packages (from scikit-image) (9.5.0)\n",
      "Requirement already satisfied: imageio>=2.4.1 in /opt/conda/lib/python3.10/site-packages (from scikit-image) (2.28.1)\n",
      "Requirement already satisfied: tifffile>=2019.7.26 in /opt/conda/lib/python3.10/site-packages (from scikit-image) (2023.4.12)\n",
      "Requirement already satisfied: PyWavelets>=1.1.1 in /opt/conda/lib/python3.10/site-packages (from scikit-image) (1.4.1)\n",
      "Requirement already satisfied: packaging>=20.0 in /opt/conda/lib/python3.10/site-packages (from scikit-image) (21.3)\n",
      "Requirement already satisfied: lazy_loader>=0.1 in /opt/conda/lib/python3.10/site-packages (from scikit-image) (0.2)\n",
      "Requirement already satisfied: pyparsing!=3.0.5,>=2.0.2 in /opt/conda/lib/python3.10/site-packages (from packaging>=20.0->scikit-image) (3.0.9)\n",
      "\u001b[33mWARNING: Running pip as the 'root' user can result in broken permissions and conflicting behaviour with the system package manager. It is recommended to use a virtual environment instead: https://pip.pypa.io/warnings/venv\u001b[0m\u001b[33m\n",
      "\u001b[0mNote: you may need to restart the kernel to use updated packages.\n"
     ]
    }
   ],
   "source": [
    "pip install scikit-image"
   ]
  },
  {
   "cell_type": "code",
   "execution_count": 11,
   "id": "490d53ab",
   "metadata": {
    "execution": {
     "iopub.execute_input": "2023-06-29T12:08:05.084367Z",
     "iopub.status.busy": "2023-06-29T12:08:05.083621Z",
     "iopub.status.idle": "2023-06-29T12:08:12.581293Z",
     "shell.execute_reply": "2023-06-29T12:08:12.580238Z",
     "shell.execute_reply.started": "2023-06-29T12:08:05.084320Z"
    }
   },
   "outputs": [
    {
     "name": "stderr",
     "output_type": "stream",
     "text": [
      "/opt/conda/lib/python3.10/site-packages/tensorflow_io/python/ops/__init__.py:98: UserWarning: unable to load libtensorflow_io_plugins.so: unable to open file: libtensorflow_io_plugins.so, from paths: ['/opt/conda/lib/python3.10/site-packages/tensorflow_io/python/ops/libtensorflow_io_plugins.so']\n",
      "caused by: ['/opt/conda/lib/python3.10/site-packages/tensorflow_io/python/ops/libtensorflow_io_plugins.so: undefined symbol: _ZN3tsl6StatusC1EN10tensorflow5error4CodeESt17basic_string_viewIcSt11char_traitsIcEENS_14SourceLocationE']\n",
      "  warnings.warn(f\"unable to load libtensorflow_io_plugins.so: {e}\")\n",
      "/opt/conda/lib/python3.10/site-packages/tensorflow_io/python/ops/__init__.py:104: UserWarning: file system plugins are not loaded: unable to open file: libtensorflow_io.so, from paths: ['/opt/conda/lib/python3.10/site-packages/tensorflow_io/python/ops/libtensorflow_io.so']\n",
      "caused by: ['/opt/conda/lib/python3.10/site-packages/tensorflow_io/python/ops/libtensorflow_io.so: undefined symbol: _ZTVN10tensorflow13GcsFileSystemE']\n",
      "  warnings.warn(f\"file system plugins are not loaded: {e}\")\n"
     ]
    }
   ],
   "source": [
    "import os\n",
    "import argparse\n",
    "import sys\n",
    "import numpy as np\n",
    "import hdf5storage\n",
    "import cv2\n",
    "import matplotlib.pyplot as plt\n",
    "import tensorflow as tf\n",
    "\n",
    "import skimage.io as io\n",
    "import skimage.transform as trans\n",
    "from keras.models import *\n",
    "from keras.layers import *\n",
    "from keras.optimizers import *\n",
    "from keras.callbacks import ModelCheckpoint, LearningRateScheduler\n",
    "from keras import backend as keras"
   ]
  },
  {
   "cell_type": "code",
   "execution_count": 12,
   "id": "0ff5d436",
   "metadata": {
    "execution": {
     "iopub.execute_input": "2023-06-29T12:08:12.583807Z",
     "iopub.status.busy": "2023-06-29T12:08:12.582562Z",
     "iopub.status.idle": "2023-06-29T12:08:23.644952Z",
     "shell.execute_reply": "2023-06-29T12:08:23.643766Z",
     "shell.execute_reply.started": "2023-06-29T12:08:12.583771Z"
    }
   },
   "outputs": [
    {
     "name": "stdout",
     "output_type": "stream",
     "text": [
      "Requirement already satisfied: scikit-learn in /opt/conda/lib/python3.10/site-packages (1.2.2)\n",
      "Requirement already satisfied: numpy>=1.17.3 in /opt/conda/lib/python3.10/site-packages (from scikit-learn) (1.23.5)\n",
      "Requirement already satisfied: scipy>=1.3.2 in /opt/conda/lib/python3.10/site-packages (from scikit-learn) (1.10.1)\n",
      "Requirement already satisfied: joblib>=1.1.1 in /opt/conda/lib/python3.10/site-packages (from scikit-learn) (1.2.0)\n",
      "Requirement already satisfied: threadpoolctl>=2.0.0 in /opt/conda/lib/python3.10/site-packages (from scikit-learn) (3.1.0)\n",
      "\u001b[33mWARNING: Running pip as the 'root' user can result in broken permissions and conflicting behaviour with the system package manager. It is recommended to use a virtual environment instead: https://pip.pypa.io/warnings/venv\u001b[0m\u001b[33m\n",
      "\u001b[0m"
     ]
    }
   ],
   "source": [
    "!pip install scikit-learn\n"
   ]
  },
  {
   "cell_type": "code",
   "execution_count": 13,
   "id": "93936bf1",
   "metadata": {
    "execution": {
     "iopub.execute_input": "2023-06-29T12:08:23.648560Z",
     "iopub.status.busy": "2023-06-29T12:08:23.648151Z",
     "iopub.status.idle": "2023-06-29T12:08:27.580514Z",
     "shell.execute_reply": "2023-06-29T12:08:27.579285Z",
     "shell.execute_reply.started": "2023-06-29T12:08:23.648522Z"
    }
   },
   "outputs": [
    {
     "name": "stdout",
     "output_type": "stream",
     "text": [
      "1545\n",
      "1236 1236 154 154\n"
     ]
    }
   ],
   "source": [
    "from sklearn.model_selection import train_test_split\n",
    "print(len(images))\n",
    "images_train, images_test, seg_train, seg_test = train_test_split(images,seg,test_size=0.2,train_size=0.8,random_state=7)\n",
    "images_test, images_cv, seg_test, seg_cv = train_test_split(images_test,seg_test,test_size = 0.5,train_size =0.5,random_state=5)\n",
    "print(len(images_train),len(seg_train),len(images_test),len(seg_test))\n",
    "\n"
   ]
  },
  {
   "cell_type": "code",
   "execution_count": 14,
   "id": "2cd943d0",
   "metadata": {
    "execution": {
     "iopub.execute_input": "2023-06-29T12:08:27.582475Z",
     "iopub.status.busy": "2023-06-29T12:08:27.582118Z",
     "iopub.status.idle": "2023-06-29T12:08:27.590231Z",
     "shell.execute_reply": "2023-06-29T12:08:27.589048Z",
     "shell.execute_reply.started": "2023-06-29T12:08:27.582427Z"
    }
   },
   "outputs": [
    {
     "name": "stdout",
     "output_type": "stream",
     "text": [
      "number of training examples = 1236\n",
      "number of development examples = 155\n",
      "number of test examples = 154\n",
      "Images_train shape: (1236, 256, 256, 3)\n",
      "Masks_train shape: (1236, 256, 256, 3)\n",
      "Images_val (dev) shape: (155, 256, 256, 3)\n",
      "Masks_val (dev) shape: (155, 256, 256, 3)\n",
      "Images_test shape: (154, 256, 256, 3)\n",
      "Masks_test shape: (154, 256, 256, 3)\n"
     ]
    }
   ],
   "source": [
    "print (\"number of training examples = \" + str(images_train.shape[0]))\n",
    "print (\"number of development examples = \" + str(images_cv.shape[0]))\n",
    "print (\"number of test examples = \" + str(images_test.shape[0]))\n",
    "print (\"Images_train shape: \" + str(images_train.shape))\n",
    "print (\"Masks_train shape: \" + str(seg_train.shape))\n",
    "print (\"Images_val (dev) shape: \" + str(images_cv.shape))\n",
    "print (\"Masks_val (dev) shape: \" + str(seg_cv.shape))\n",
    "print (\"Images_test shape: \" + str(images_test.shape))\n",
    "print (\"Masks_test shape: \" + str(seg_test.shape))"
   ]
  },
  {
   "cell_type": "code",
   "execution_count": 15,
   "id": "cb7b5fc1",
   "metadata": {
    "execution": {
     "iopub.execute_input": "2023-06-29T12:08:27.592333Z",
     "iopub.status.busy": "2023-06-29T12:08:27.591733Z",
     "iopub.status.idle": "2023-06-29T12:08:27.855082Z",
     "shell.execute_reply": "2023-06-29T12:08:27.853857Z",
     "shell.execute_reply.started": "2023-06-29T12:08:27.592303Z"
    }
   },
   "outputs": [
    {
     "data": {
      "image/png": "[encoded data removed]",
      "text/plain": [
       "<Figure size 640x480 with 1 Axes>"
      ]
     },
     "metadata": {},
     "output_type": "display_data"
    },
    {
     "data": {
      "image/png": "[encoded data removed]",
      "text/plain": [
       "<Figure size 640x480 with 1 Axes>"
      ]
     },
     "metadata": {},
     "output_type": "display_data"
    }
   ],
   "source": [
    "plt.imshow(images_test[22])\n",
    "plt.axis('off')  # Turn off the axis\n",
    "plt.show()\n",
    "\n",
    "plt.imshow(seg_test[22])\n",
    "plt.axis('off')  # Turn off the axis\n",
    "plt.show()"
   ]
  },
  {
   "cell_type": "markdown",
   "id": "c46d433e",
   "metadata": {},
   "source": [
    "#Final Model "
   ]
  },
  {
   "cell_type": "code",
   "execution_count": 16,
   "id": "f3dd63ee",
   "metadata": {
    "execution": {
     "iopub.execute_input": "2023-06-29T12:08:27.860906Z",
     "iopub.status.busy": "2023-06-29T12:08:27.859996Z",
     "iopub.status.idle": "2023-06-29T12:08:27.871942Z",
     "shell.execute_reply": "2023-06-29T12:08:27.870744Z",
     "shell.execute_reply.started": "2023-06-29T12:08:27.860859Z"
    }
   },
   "outputs": [],
   "source": [
    "\n",
    "EPOCHS = 1\n",
    "BATCH_SIZE = 8\n",
    "learning_rate = 1e-4\n",
    "smooth=100"
   ]
  },
  {
   "cell_type": "markdown",
   "id": "ff0dd745",
   "metadata": {},
   "source": [
    "\n",
    "def dice_coefficients(y_true, y_pred, smooth=100):\n",
    "    \"\"\"\n",
    "    Computes the Dice similarity coefficient between the true and predicted values.\n",
    "\n",
    "    The Dice coefficient is a statistical metric used to gauge the similarity of two samples.\n",
    "    With a range from 0 to 1, the Dice coefficient is 1 when the two samples are identical and\n",
    "    0 when they share no elements. A smoothing term is included to prevent division by zero.\n",
    "\n",
    "    This function is typically used as a loss function for binary segmentation tasks,\n",
    "    where the true and predicted values are binary masks of the same size.\n",
    "\n",
    "    Parameters:\n",
    "    -----------\n",
    "    y_true : tensor\n",
    "        The ground truth values. Typically a binary mask.\n",
    "\n",
    "    y_pred : tensor\n",
    "        The predicted values. Typically a binary mask.\n",
    "\n",
    "    smooth : float, optional\n",
    "        A smoothing factor to prevent division by zero. Default is 100.\n",
    "\n",
    "    Returns:\n",
    "    --------\n",
    "    float\n",
    "        The Dice similarity coefficient between the true and predicted values.\n",
    "\n",
    "    Note:\n",
    "    -----\n",
    "    The inputs are flattened to 1D tensors before computation to handle\n",
    "    both single and multi-channel inputs.\n",
    "    \"\"\"\n",
    "\n",
    "    y_true_flatten = K.flatten(y_true)\n",
    "    y_pred_flatten = K.flatten(y_pred)\n",
    "\n",
    "    intersection = K.sum(y_true_flatten * y_pred_flatten)\n",
    "    union = K.sum(y_true_flatten) + K.sum(y_pred_flatten)\n",
    "    return (2 * intersection + smooth) / (union + smooth)\n",
    "\n",
    "\n",
    "def dice_coefficients_loss(y_true, y_pred, smooth=100):\n",
    "    \"\"\"\n",
    "    The Dice loss function for image segmentation models.\n",
    "\n",
    "    The Dice loss is a measure of the overlap between the prediction (y_pred)\n",
    "    and the ground truth (y_true). It ranges from 0 to 1, where a Dice loss\n",
    "    of 1 indicates perfect overlap (i.e., a perfect segmentation), while a Dice\n",
    "    loss of 0 indicates no overlap.\n",
    "\n",
    "    The 'smooth' parameter is a small constant added to the numerator and\n",
    "    denominator of the Dice coefficient to avoid division by zero errors\n",
    "    and to stabilize the training.\n",
    "\n",
    "    Parameters:\n",
    "    y_true (tf.Tensor): Ground truth. Tensor of the same shape as y_pred.\n",
    "    y_pred (tf.Tensor): Model prediction. Tensor output from the model.\n",
    "    smooth (float, optional): A smoothing constant to avoid division by zero errors. Default is 100.\n",
    "\n",
    "    Returns:\n",
    "    float: The computed Dice loss.\n",
    "\n",
    "    Why the negative sign here i.e. -dice_coefficients\n",
    "\n",
    "    most optimization algorithms are designed to minimize a function rather than maximize it. Therefore, to convert the maximization problem to a minimization problem, we take the negative of the Dice coefficient. As a result, when the Dice coefficient is high (which is good), the loss is low, and when the Dice coefficient is low (which is bad), the loss is high. This allows the model to use standard optimization techniques to find the best parameters.\n",
    "\n",
    "    \"\"\"\n",
    "\n",
    "    return -dice_coefficients(y_true, y_pred, smooth)\n",
    "\n",
    "\n",
    "def iou(y_true, y_pred, smooth=100):\n",
    "    \"\"\"\n",
    "    Calculates the Intersection over Union (IoU) between the true and predicted values.\n",
    "\n",
    "    IoU, also known as the Jaccard Index, is a metric used to quantify the percent overlap\n",
    "    between the target mask and our prediction output. It's often used in segmentation problems\n",
    "    to evaluate the quality of predictions.\n",
    "\n",
    "    This function is generally used for evaluating segmentation tasks where the true and\n",
    "    predicted outputs are binary masks of the same size.\n",
    "\n",
    "    Parameters:\n",
    "    -----------\n",
    "    y_true : tensor\n",
    "        The ground truth values. Typically a binary mask.\n",
    "\n",
    "    y_pred : tensor\n",
    "        The predicted values. Typically a binary mask.\n",
    "\n",
    "    smooth : float, optional\n",
    "        A smoothing factor to prevent division by zero. Default is 100.\n",
    "\n",
    "    Returns:\n",
    "    --------\n",
    "    float\n",
    "        The Intersection over Union (IoU) between the true and predicted values.\n",
    "\n",
    "    Note:\n",
    "    -----\n",
    "    The inputs are not flattened to 1D tensors before computation because Keras backend\n",
    "    operations automatically broadcast the tensors to the appropriate shapes.\n",
    "    \"\"\"\n",
    "    intersection = K.sum(y_true * y_pred)\n",
    "    sum = K.sum(y_true + y_pred)\n",
    "    iou = (intersection + smooth) / (sum - intersection + smooth)\n",
    "    return iou\n",
    "\n",
    "\"\"\" Why intersection = K.sum(y_true * y_pred) in above\n",
    "\n",
    "The line intersection = K.sum(y_true * y_pred) is calculating the intersection of two sets, where the sets are represented as binary masks (for a segmentation problem). The intersection is basically the overlapping region of the two sets.\n",
    "\n",
    "This is done by performing an element-wise multiplication between the true values (y_true) and the predicted values (y_pred). In the context of binary masks, this operation essentially counts the number of pixels where both the true and predicted masks are 1 (indicating a positive class).\n",
    "\n",
    "This is because in a binary mask, a pixel value of 1 denotes the presence of the object of interest (in a segmentation task, for instance), and a pixel value of 0 denotes the background or absence of the object. Thus, when both y_true and y_pred are 1, it means that both the ground truth and the prediction agree that there is an object at that particular pixel location.\n",
    "\n",
    "In the context of binary masks for a segmentation problem, the masks represent the region of interest in an image, where '1' denotes the presence of an object (or class) and '0' denotes the absence of that object (or background).\n",
    "\n",
    "When we multiply these masks element-wise (y_true * y_pred), we are looking for places where both masks agree that there is an object of interest. If both y_true and y_pred are 1 at a given pixel, then the product is 1, indicating an intersection at that pixel. If either of them is 0 at a given pixel, then the product is 0, indicating no intersection.\n",
    "\n",
    "By summing up all these products (K.sum(y_true * y_pred)), we are effectively counting the number of pixels where both the ground truth (y_true) and the prediction (y_pred) agree that there is an object of interest. This is the intersection of the ground truth and prediction.\n",
    "\n",
    "\n",
    "The K.sum() operation then sums up all these overlapping '1's to give a single number representing the total intersection, or overlap, between the true and predicted values.\n",
    "\"\"\"\n",
    "\n",
    "\n",
    "def jaccard_distance(y_true, y_pred):\n",
    "    \"\"\"\n",
    "    Function to compute the Jaccard distance between the true labels and the predicted labels.\n",
    "\n",
    "    The Jaccard distance, which is a measure of dissimilarity between sets, is computed as one minus\n",
    "    the intersection over union (IoU) of the sets. A lower Jaccard distance between the predicted labels\n",
    "    and the true labels indicates a better model fit.\n",
    "\n",
    "    Parameters:\n",
    "    y_true (np.array): The ground truth label array (binary mask).\n",
    "    y_pred (np.array): The predicted label array (binary mask).\n",
    "\n",
    "    Returns:\n",
    "    float: The Jaccard distance between the ground truth labels and the predicted labels.\n",
    "    \"\"\"\n",
    "\n",
    "    y_true_flatten = K.flatten(y_true)\n",
    "    y_pred_flatten = K.flatten(y_pred)\n",
    "    return -iou(y_true_flatten, y_pred_flatten)\n"
   ]
  },
  {
   "cell_type": "code",
   "execution_count": 17,
   "id": "e7886166",
   "metadata": {
    "execution": {
     "iopub.execute_input": "2023-06-29T12:08:27.883015Z",
     "iopub.status.busy": "2023-06-29T12:08:27.882545Z",
     "iopub.status.idle": "2023-06-29T12:08:27.940014Z",
     "shell.execute_reply": "2023-06-29T12:08:27.938773Z",
     "shell.execute_reply.started": "2023-06-29T12:08:27.882973Z"
    }
   },
   "outputs": [],
   "source": [
    "import tensorflow as tf\n",
    "from tensorflow.keras import Input\n",
    "from tensorflow.keras.models import Model, load_model, save_model\n",
    "from tensorflow.keras.layers import (\n",
    "    Input,\n",
    "    Activation,\n",
    "    BatchNormalization,\n",
    "    Dropout,\n",
    "    Lambda,\n",
    "    Conv2D,\n",
    "    Conv2DTranspose,\n",
    "    MaxPooling2D,\n",
    "    concatenate,\n",
    ")\n",
    "from tensorflow.keras import backend as K\n",
    "\n",
    "\n",
    "def unet_fin(input_size=(256, 256, 3)):\n",
    "    \"\"\"\n",
    "    This function creates and returns a U-Net model. U-Net is a type of convolutional neural network\n",
    "    designed for fast and precise segmentation of images. It consists of a contracting (downsampling)\n",
    "    path and an expansive (upsampling) path, which gives it a U-shaped architecture.\n",
    "\n",
    "    Parameters:\n",
    "    -----------\n",
    "    input_size : tuple of int\n",
    "        The size of the input images. It is a 3-tuple for (height, width, channels).\n",
    "        Default is (256, 256, 3).\n",
    "\n",
    "    Returns:\n",
    "    --------\n",
    "    model : keras.models.Model\n",
    "        The constructed U-Net model.\n",
    "    \"\"\"\n",
    "    inputs = Input(input_size)\n",
    "\n",
    "    # First DownConvolution / Encoder Leg will begin, so start with Conv2D\n",
    "    conv1 = Conv2D(filters=64, kernel_size=(3, 3), padding=\"same\")(inputs)\n",
    "    bn1 = Activation(\"relu\")(conv1)\n",
    "    conv1 = Conv2D(filters=64, kernel_size=(3, 3), padding=\"same\")(bn1)\n",
    "    bn1 = BatchNormalization(axis=3)(conv1)\n",
    "    bn1 = Activation(\"relu\")(bn1)\n",
    "    pool1 = MaxPooling2D(pool_size=(2, 2))(bn1)\n",
    "\n",
    "    conv2 = Conv2D(filters=128, kernel_size=(3, 3), padding=\"same\")(pool1)\n",
    "    bn2 = Activation(\"relu\")(conv2)\n",
    "    conv2 = Conv2D(filters=128, kernel_size=(3, 3), padding=\"same\")(bn2)\n",
    "    bn2 = BatchNormalization(axis=3)(conv2)\n",
    "    bn2 = Activation(\"relu\")(bn2)\n",
    "    pool2 = MaxPooling2D(pool_size=(2, 2))(bn2)\n",
    "\n",
    "    conv3 = Conv2D(filters=256, kernel_size=(3, 3), padding=\"same\")(pool2)\n",
    "    bn3 = Activation(\"relu\")(conv3)\n",
    "    conv3 = Conv2D(filters=256, kernel_size=(3, 3), padding=\"same\")(bn3)\n",
    "    bn3 = BatchNormalization(axis=3)(conv3)\n",
    "    bn3 = Activation(\"relu\")(bn3)\n",
    "    pool3 = MaxPooling2D(pool_size=(2, 2))(bn3)\n",
    "\n",
    "    conv4 = Conv2D(filters=512, kernel_size=(3, 3), padding=\"same\")(pool3)\n",
    "    bn4 = Activation(\"relu\")(conv4)\n",
    "    conv4 = Conv2D(filters=512, kernel_size=(3, 3), padding=\"same\")(bn4)\n",
    "    bn4 = BatchNormalization(axis=3)(conv4)\n",
    "    bn4 = Activation(\"relu\")(bn4)\n",
    "    pool4 = MaxPooling2D(pool_size=(2, 2))(bn4)\n",
    "\n",
    "    conv5 = Conv2D(filters=1024, kernel_size=(3, 3), padding=\"same\")(pool4)\n",
    "    bn5 = Activation(\"relu\")(conv5)\n",
    "    conv5 = Conv2D(filters=1024, kernel_size=(3, 3), padding=\"same\")(bn5)\n",
    "    bn5 = BatchNormalization(axis=3)(conv5)\n",
    "    bn5 = Activation(\"relu\")(bn5)\n",
    "\n",
    "    \"\"\" Now UpConvolution / Decoder Leg will begin, so start with Conv2DTranspose\n",
    "    The gray arrows (in the above image) indicate the skip connections that concatenate the encoder feature map with the decoder, which helps the backward flow of gradients for improved training. \"\"\"\n",
    "    up6 = concatenate(\n",
    "        [\n",
    "            Conv2DTranspose(512, kernel_size=(2, 2), strides=(2, 2), padding=\"same\")(\n",
    "                bn5\n",
    "            ),\n",
    "            conv4,\n",
    "        ],\n",
    "        axis=3,\n",
    "    )\n",
    "    \"\"\" After every concatenation we again apply two consecutive regular convolutions so that the model can learn to assemble a more precise output \"\"\"\n",
    "    conv6 = Conv2D(filters=512, kernel_size=(3, 3), padding=\"same\")(up6)\n",
    "    bn6 = Activation(\"relu\")(conv6)\n",
    "    conv6 = Conv2D(filters=512, kernel_size=(3, 3), padding=\"same\")(bn6)\n",
    "    bn6 = BatchNormalization(axis=3)(conv6)\n",
    "    bn6 = Activation(\"relu\")(bn6)\n",
    "\n",
    "    up7 = concatenate(\n",
    "        [\n",
    "            Conv2DTranspose(256, kernel_size=(2, 2), strides=(2, 2), padding=\"same\")(\n",
    "                bn6\n",
    "            ),\n",
    "            conv3,\n",
    "        ],\n",
    "        axis=3,\n",
    "    )\n",
    "    conv7 = Conv2D(filters=256, kernel_size=(3, 3), padding=\"same\")(up7)\n",
    "    bn7 = Activation(\"relu\")(conv7)\n",
    "    conv7 = Conv2D(filters=256, kernel_size=(3, 3), padding=\"same\")(bn7)\n",
    "    bn7 = BatchNormalization(axis=3)(conv7)\n",
    "    bn7 = Activation(\"relu\")(bn7)\n",
    "\n",
    "    up8 = concatenate(\n",
    "        [\n",
    "            Conv2DTranspose(128, kernel_size=(2, 2), strides=(2, 2), padding=\"same\")(\n",
    "                bn7\n",
    "            ),\n",
    "            conv2,\n",
    "        ],\n",
    "        axis=3,\n",
    "    )\n",
    "    conv8 = Conv2D(filters=128, kernel_size=(3, 3), padding=\"same\")(up8)\n",
    "    bn8 = Activation(\"relu\")(conv8)\n",
    "    conv8 = Conv2D(filters=128, kernel_size=(3, 3), padding=\"same\")(bn8)\n",
    "    bn8 = BatchNormalization(axis=3)(conv8)\n",
    "    bn8 = Activation(\"relu\")(bn8)\n",
    "\n",
    "    up9 = concatenate(\n",
    "        [\n",
    "            Conv2DTranspose(64, kernel_size=(2, 2), strides=(2, 2), padding=\"same\")(\n",
    "                bn8\n",
    "            ),\n",
    "            conv1,\n",
    "        ],\n",
    "        axis=3,\n",
    "    )\n",
    "    conv9 = Conv2D(filters=64, kernel_size=(3, 3), padding=\"same\")(up9)\n",
    "    bn9 = Activation(\"relu\")(conv9)\n",
    "    conv9 = Conv2D(filters=64, kernel_size=(3, 3), padding=\"same\")(bn9)\n",
    "    bn9 = BatchNormalization(axis=3)(conv9)\n",
    "    bn9 = Activation(\"relu\")(bn9)\n",
    "\n",
    "    conv10 = Conv2D(filters=3, kernel_size=(1, 1), activation=\"sigmoid\")(bn9)\n",
    "\n",
    "    return Model(inputs=[inputs], outputs=[conv10])"
   ]
  },
  {
   "cell_type": "code",
   "execution_count": 18,
   "id": "556acb73",
   "metadata": {
    "execution": {
     "iopub.execute_input": "2023-06-29T12:08:27.943359Z",
     "iopub.status.busy": "2023-06-29T12:08:27.943037Z",
     "iopub.status.idle": "2023-06-29T12:08:27.952261Z",
     "shell.execute_reply": "2023-06-29T12:08:27.951378Z",
     "shell.execute_reply.started": "2023-06-29T12:08:27.943336Z"
    }
   },
   "outputs": [],
   "source": [
    "import tensorflow as tf\n",
    "\n",
    "def iou(y_true, y_pred, smooth=1):\n",
    "    intersection = tf.reduce_sum(y_true * y_pred, axis=(1, 2, 3))\n",
    "    union = tf.reduce_sum(y_true, axis=(1, 2, 3)) + tf.reduce_sum(y_pred, axis=(1, 2, 3)) - intersection\n",
    "    iou_score = tf.reduce_mean((intersection + smooth) / (union + smooth))\n",
    "    return iou_score\n",
    "\n",
    "def dice_coefficients(y_true, y_pred, smooth=1):\n",
    "    intersection = tf.reduce_sum(y_true * y_pred, axis=(1, 2, 3))\n",
    "    union = tf.reduce_sum(y_true, axis=(1, 2, 3)) + tf.reduce_sum(y_pred, axis=(1, 2, 3))\n",
    "    dice_score = tf.reduce_mean((2 * intersection + smooth) / (union + smooth))\n",
    "    return dice_score\n"
   ]
  },
  {
   "cell_type": "code",
   "execution_count": null,
   "id": "9cdc1b89",
   "metadata": {
    "execution": {
     "iopub.execute_input": "2023-06-29T12:08:27.955540Z",
     "iopub.status.busy": "2023-06-29T12:08:27.955085Z"
    }
   },
   "outputs": [],
   "source": [
    "from tensorflow.keras.losses import BinaryCrossentropy\n",
    "model = unet_fin(input_size=(256, 256, 3))\n",
    "from tensorflow.keras.optimizers import Adam\n",
    "from keras.callbacks import ModelCheckpoint, LearningRateScheduler\n",
    "\n",
    "\n",
    "\n",
    "decay_rate = learning_rate / EPOCHS\n",
    "\n",
    "opt = Adam(learning_rate=learning_rate, beta_1=0.9, beta_2=0.999, amsgrad=False)\n",
    "\n",
    "model.compile(optimizer=opt, loss=BinaryCrossentropy(), metrics=[\"binary_accuracy\", iou, dice_coefficients])\n",
    "\n",
    "callbacks = [ModelCheckpoint('unet.hdf5', verbose=1, save_best_only=True)]\n",
    "\n",
    "history = model.fit(images_train,seg_train,\n",
    "                    steps_per_epoch=len(images_train) / BATCH_SIZE, \n",
    "                    epochs=EPOCHS, \n",
    "                    callbacks=callbacks,\n",
    "                    validation_data = (images_cv, seg_cv),\n",
    "                    validation_steps=len(images_cv) / BATCH_SIZE)"
   ]
  },
  {
   "cell_type": "code",
   "execution_count": null,
   "id": "cac23965",
   "metadata": {},
   "outputs": [],
   "source": [
    "predictions = model.predict(images_test)"
   ]
  },
  {
   "cell_type": "code",
   "execution_count": null,
   "id": "5aaf4697",
   "metadata": {},
   "outputs": [],
   "source": [
    "import matplotlib.pyplot as plt\n",
    "\n",
    "# Assuming you have an image represented as a NumPy array\n",
    "ind=13\n",
    "image=predictions[ind]\n",
    "print(np.unique(image))\n",
    "plt.imshow(image, cmap='Blues')\n",
    "plt.axis('off')  # Turn off the axis\n",
    "plt.show()\n",
    "print(image.shape)\n",
    "'''\n",
    "for i in range(3):\n",
    "    for j in range(len(image[i])):\n",
    "        for k in range(len(image[i][j])):\n",
    "            if(image[i][j][k]>0.3):\n",
    "                image[i][j][k]=1\n",
    "            else:\n",
    "                image[i][j][k]=0;\n",
    "'''\n",
    "#image[image > 0.1] = 1\n",
    "#image[image <= 0.1] = 0\n",
    "# Display the image\n",
    "print(np.unique(image))\n",
    "plt.imshow(image, cmap='gray')\n",
    "plt.axis('off')  # Turn off the axis\n",
    "plt.show()\n",
    "\n",
    "plt.imshow(images_test[ind], cmap='gray')\n",
    "plt.axis('off')  # Turn off the axis\n",
    "plt.show()\n",
    "\n",
    "plt.imshow(seg_test[ind], cmap='gray')\n",
    "plt.axis('off')  # Turn off the axis\n",
    "plt.show()\n"
   ]
  }
 ],
 "metadata": {
  "kernelspec": {
   "display_name": "Python 3 (ipykernel)",
   "language": "python",
   "name": "python3"
  },
  "language_info": {
   "codemirror_mode": {
    "name": "ipython",
    "version": 3
   },
   "file_extension": ".py",
   "mimetype": "text/x-python",
   "name": "python",
   "nbconvert_exporter": "python",
   "pygments_lexer": "ipython3",
   "version": "3.10.10"
  }
 },
 "nbformat": 4,
 "nbformat_minor": 5
}
